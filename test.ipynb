{
 "cells": [
  {
   "cell_type": "markdown",
   "id": "2a439428",
   "metadata": {},
   "source": [
    "### Exract Zip for Testing"
   ]
  },
  {
   "cell_type": "code",
   "execution_count": 3,
   "id": "8ba46c79",
   "metadata": {},
   "outputs": [],
   "source": [
    "import zipfile\n",
    "\n",
    "path_to_zip_file = '/home/timoh/MinRes/ultrasounds/archive.zip'\n",
    "directory_to_extract_to = '/home/timoh/MinRes/ultrasounds/healthy/'\n",
    "\n",
    "with zipfile.ZipFile(path_to_zip_file, 'r') as zip_ref:\n",
    "    zip_ref.extractall(directory_to_extract_to)"
   ]
  },
  {
   "cell_type": "code",
   "execution_count": null,
   "id": "ef4c558e",
   "metadata": {},
   "outputs": [],
   "source": []
  }
 ],
 "metadata": {
  "kernelspec": {
   "display_name": "Python 3",
   "language": "python",
   "name": "python3"
  },
  "language_info": {
   "codemirror_mode": {
    "name": "ipython",
    "version": 3
   },
   "file_extension": ".py",
   "mimetype": "text/x-python",
   "name": "python",
   "nbconvert_exporter": "python",
   "pygments_lexer": "ipython3",
   "version": "3.10.12"
  }
 },
 "nbformat": 4,
 "nbformat_minor": 5
}
